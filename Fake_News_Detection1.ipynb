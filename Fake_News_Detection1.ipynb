{
  "nbformat": 4,
  "nbformat_minor": 0,
  "metadata": {
    "colab": {
      "provenance": [],
      "authorship_tag": "ABX9TyPHu8mU6eMfdAap1UhQp/Rc",
      "include_colab_link": true
    },
    "kernelspec": {
      "name": "python3",
      "display_name": "Python 3"
    },
    "language_info": {
      "name": "python"
    }
  },
  "cells": [
    {
      "cell_type": "markdown",
      "metadata": {
        "id": "view-in-github",
        "colab_type": "text"
      },
      "source": [
        "<a href=\"https://colab.research.google.com/github/rohan00112233/Django_Chatbot_project/blob/master/Fake_News_Detection1.ipynb\" target=\"_parent\"><img src=\"https://colab.research.google.com/assets/colab-badge.svg\" alt=\"Open In Colab\"/></a>"
      ]
    },
    {
      "cell_type": "code",
      "execution_count": 1,
      "metadata": {
        "colab": {
          "base_uri": "https://localhost:8080/"
        },
        "id": "tgJhXOHaZ1Rz",
        "outputId": "17a83c98-b3d0-47ce-9ac4-03cdcf63457f"
      },
      "outputs": [
        {
          "output_type": "stream",
          "name": "stdout",
          "text": [
            "Files 'True.csv' and 'Fake.csv' loaded successfully!\n",
            "--------------------------------------------------\n",
            "Dataframes combined and preprocessed.\n",
            "--------------------------------------------------\n",
            "Training data size: 35918 samples\n",
            "Testing data size: 8980 samples\n",
            "--------------------------------------------------\n",
            "Text data vectorized using TF-IDF.\n",
            "--------------------------------------------------\n",
            "Training the Logistic Regression model...\n",
            "Model training complete!\n",
            "--------------------------------------------------\n",
            "✅ Model Accuracy: 98.62%\n",
            "\n",
            "Classification Report:\n",
            "               precision    recall  f1-score   support\n",
            "\n",
            "Fake News (0)       0.99      0.98      0.99      4669\n",
            "Real News (1)       0.98      0.99      0.99      4311\n",
            "\n",
            "     accuracy                           0.99      8980\n",
            "    macro avg       0.99      0.99      0.99      8980\n",
            " weighted avg       0.99      0.99      0.99      8980\n",
            "\n"
          ]
        }
      ],
      "source": [
        "# ===================================================================\n",
        "# Step 1: Import Libraries and Load Data\n",
        "# ===================================================================\n",
        "import pandas as pd\n",
        "from sklearn.model_selection import train_test_split\n",
        "from sklearn.feature_extraction.text import TfidfVectorizer\n",
        "from sklearn.linear_model import LogisticRegression\n",
        "from sklearn.metrics import accuracy_score, classification_report\n",
        "\n",
        "# Load the datasets from your uploaded files\n",
        "try:\n",
        "    df_true = pd.read_csv('True.csv')\n",
        "    df_fake = pd.read_csv('Fake.csv')\n",
        "    print(\"Files 'True.csv' and 'Fake.csv' loaded successfully!\")\n",
        "    print(\"-\" * 50)\n",
        "except FileNotFoundError:\n",
        "    print(\"Error: Make sure you have uploaded 'True.csv' and 'Fake.csv' using the file browser on the left.\")\n",
        "\n",
        "# ===================================================================\n",
        "# Step 2: Preprocessing and Merging\n",
        "# ===================================================================\n",
        "# Add a 'label' column: 1 for real, 0 for fake\n",
        "df_true['label'] = 1\n",
        "df_fake['label'] = 0\n",
        "\n",
        "# Combine the two dataframes\n",
        "df = pd.concat([df_true, df_fake], ignore_index=True)\n",
        "\n",
        "# Shuffle the dataset\n",
        "df = df.sample(frac=1, random_state=42).reset_index(drop=True)\n",
        "\n",
        "# Combine title and text into a single 'content' feature\n",
        "df['content'] = df['title'] + ' ' + df['text']\n",
        "print(\"Dataframes combined and preprocessed.\")\n",
        "print(\"-\" * 50)\n",
        "\n",
        "\n",
        "# ===================================================================\n",
        "# Step 3: Define Features and Split Data\n",
        "# ===================================================================\n",
        "X = df['content']\n",
        "y = df['label']\n",
        "\n",
        "# Split data into 80% training and 20% testing\n",
        "X_train, X_test, y_train, y_test = train_test_split(X, y, test_size=0.2, random_state=42)\n",
        "print(f\"Training data size: {X_train.shape[0]} samples\")\n",
        "print(f\"Testing data size: {X_test.shape[0]} samples\")\n",
        "print(\"-\" * 50)\n",
        "\n",
        "# ===================================================================\n",
        "# Step 4: Vectorize Text with TF-IDF\n",
        "# ===================================================================\n",
        "# Initialize the vectorizer\n",
        "tfidf_vectorizer = TfidfVectorizer(stop_words='english', max_df=0.7)\n",
        "\n",
        "# Vectorize the training and testing data\n",
        "X_train_tfidf = tfidf_vectorizer.fit_transform(X_train)\n",
        "X_test_tfidf = tfidf_vectorizer.transform(X_test)\n",
        "print(\"Text data vectorized using TF-IDF.\")\n",
        "print(\"-\" * 50)\n",
        "\n",
        "# ===================================================================\n",
        "# Step 5: Train the Logistic Regression Model\n",
        "# ===================================================================\n",
        "# Initialize and train the model\n",
        "model = LogisticRegression(max_iter=1000)\n",
        "print(\"Training the Logistic Regression model...\")\n",
        "model.fit(X_train_tfidf, y_train)\n",
        "print(\"Model training complete!\")\n",
        "print(\"-\" * 50)\n",
        "\n",
        "# ===================================================================\n",
        "# Step 6: Evaluate the Model\n",
        "# ===================================================================\n",
        "# Make predictions on the test set\n",
        "y_pred = model.predict(X_test_tfidf)\n",
        "\n",
        "# Calculate and print the results\n",
        "accuracy = accuracy_score(y_test, y_pred)\n",
        "print(f\"✅ Model Accuracy: {accuracy * 100:.2f}%\")\n",
        "print(\"\\nClassification Report:\")\n",
        "print(classification_report(y_test, y_pred, target_names=['Fake News (0)', 'Real News (1)']))"
      ]
    },
    {
      "cell_type": "code",
      "source": [],
      "metadata": {
        "id": "FhPM1XPQajVP"
      },
      "execution_count": null,
      "outputs": []
    }
  ]
}